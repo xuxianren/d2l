{
 "cells": [
  {
   "cell_type": "code",
   "execution_count": 1,
   "id": "0be5debd",
   "metadata": {},
   "outputs": [],
   "source": [
    "import torch\n",
    "from torch import nn\n",
    "from torchvision import transforms\n",
    "from torchvision import datasets\n",
    "from torch.utils.data import DataLoader"
   ]
  },
  {
   "cell_type": "code",
   "execution_count": 2,
   "id": "f5f70d57",
   "metadata": {},
   "outputs": [],
   "source": [
    "trans = transforms.ToTensor()\n",
    "training_dataset = datasets.FashionMNIST(\n",
    "    root=\"./data\",\n",
    "    transform=trans,\n",
    "    train=True,\n",
    "    download=True,\n",
    ")"
   ]
  },
  {
   "cell_type": "code",
   "execution_count": 3,
   "id": "2743771f",
   "metadata": {},
   "outputs": [],
   "source": [
    "test_dataset = datasets.FashionMNIST(\n",
    "    root=\"./data\",\n",
    "    transform=trans,\n",
    "    train=False,\n",
    "    download=True,\n",
    ")"
   ]
  },
  {
   "cell_type": "code",
   "execution_count": 4,
   "id": "a5f058f2",
   "metadata": {},
   "outputs": [],
   "source": [
    "batch_size = 256\n",
    "train_dataloader = DataLoader(training_dataset, batch_size=batch_size)\n",
    "test_dataloader = DataLoader(train_dataloader,batch_size=batch_size)"
   ]
  },
  {
   "cell_type": "code",
   "execution_count": 5,
   "id": "03ccdc85",
   "metadata": {},
   "outputs": [],
   "source": [
    "net = nn.Sequential(\n",
    "        nn.Flatten(),\n",
    "        nn.Linear(28*28,10),\n",
    "        nn.Softmax(dim=1),\n",
    ")"
   ]
  },
  {
   "cell_type": "code",
   "execution_count": null,
   "id": "a3b5bca3",
   "metadata": {},
   "outputs": [],
   "source": []
  },
  {
   "cell_type": "code",
   "execution_count": 6,
   "id": "3e68ce5d",
   "metadata": {},
   "outputs": [],
   "source": [
    "loss_fn = nn.CrossEntropyLoss(reduction='none')\n",
    "optimizer = torch.optim.SGD(net.parameters(), lr=0.01)"
   ]
  },
  {
   "cell_type": "code",
   "execution_count": 8,
   "id": "8e332173",
   "metadata": {},
   "outputs": [
    {
     "name": "stdout",
     "output_type": "stream",
     "text": [
      "tensor(1.8687, grad_fn=<MeanBackward0>)\n",
      "tensor(1.8641, grad_fn=<MeanBackward0>)\n",
      "tensor(1.8600, grad_fn=<MeanBackward0>)\n",
      "tensor(1.8564, grad_fn=<MeanBackward0>)\n",
      "tensor(1.8529, grad_fn=<MeanBackward0>)\n",
      "tensor(1.8495, grad_fn=<MeanBackward0>)\n",
      "tensor(1.8461, grad_fn=<MeanBackward0>)\n",
      "tensor(1.8427, grad_fn=<MeanBackward0>)\n",
      "tensor(1.8391, grad_fn=<MeanBackward0>)\n",
      "tensor(1.8355, grad_fn=<MeanBackward0>)\n"
     ]
    }
   ],
   "source": [
    "epoch_nums = 10\n",
    "m = 0\n",
    "for epoch in range(epoch_nums):\n",
    "    for X, y in train_dataloader:\n",
    "        y_hat = net(X)\n",
    "        loss = loss_fn(y_hat, y)\n",
    "        optimizer.zero_grad()\n",
    "        m = loss.mean()\n",
    "        m.backward()\n",
    "        optimizer.step()\n",
    "    print(m)\n"
   ]
  },
  {
   "cell_type": "code",
   "execution_count": null,
   "id": "21b77622",
   "metadata": {},
   "outputs": [],
   "source": []
  },
  {
   "cell_type": "code",
   "execution_count": null,
   "id": "a2d9e6a7",
   "metadata": {},
   "outputs": [],
   "source": []
  },
  {
   "cell_type": "code",
   "execution_count": null,
   "id": "82fa20a7",
   "metadata": {},
   "outputs": [],
   "source": []
  },
  {
   "cell_type": "code",
   "execution_count": null,
   "id": "2bfab49e",
   "metadata": {},
   "outputs": [],
   "source": []
  },
  {
   "cell_type": "code",
   "execution_count": null,
   "id": "3ed2aa08",
   "metadata": {},
   "outputs": [],
   "source": []
  },
  {
   "cell_type": "code",
   "execution_count": null,
   "id": "d0dacd0e",
   "metadata": {},
   "outputs": [],
   "source": []
  },
  {
   "cell_type": "code",
   "execution_count": null,
   "id": "11f32080",
   "metadata": {},
   "outputs": [],
   "source": []
  },
  {
   "cell_type": "code",
   "execution_count": null,
   "id": "bf529111",
   "metadata": {},
   "outputs": [],
   "source": []
  }
 ],
 "metadata": {
  "kernelspec": {
   "display_name": "Python 3 (ipykernel)",
   "language": "python",
   "name": "python3"
  },
  "language_info": {
   "codemirror_mode": {
    "name": "ipython",
    "version": 3
   },
   "file_extension": ".py",
   "mimetype": "text/x-python",
   "name": "python",
   "nbconvert_exporter": "python",
   "pygments_lexer": "ipython3",
   "version": "3.10.11"
  }
 },
 "nbformat": 4,
 "nbformat_minor": 5
}
