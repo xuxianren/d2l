{
 "cells": [
  {
   "cell_type": "code",
   "execution_count": 1,
   "id": "04f574b1",
   "metadata": {},
   "outputs": [],
   "source": [
    "import numpy as np\n",
    "import torch\n",
    "from torch.utils import data"
   ]
  },
  {
   "cell_type": "code",
   "execution_count": 5,
   "id": "730fdfd5",
   "metadata": {},
   "outputs": [],
   "source": [
    "def synthetic_data(w, b, num_examples): \n",
    "    \"\"\"⽣成y=Xw+b+噪声\"\"\"\n",
    "    X = torch.normal(0, 1, (num_examples, len(w)))\n",
    "    y = torch.matmul(X, w) + b\n",
    "    y += torch.normal(0, 0.01, y.shape)\n",
    "    return X, y.reshape((-1, 1))"
   ]
  },
  {
   "cell_type": "code",
   "execution_count": 7,
   "id": "8e300cae",
   "metadata": {},
   "outputs": [],
   "source": [
    "true_w = torch.tensor([2, -3.4])\n",
    "true_b = 4.2\n",
    "features, labels = synthetic_data(true_w, true_b, 1000)"
   ]
  },
  {
   "cell_type": "code",
   "execution_count": 8,
   "id": "a9e8855b",
   "metadata": {},
   "outputs": [],
   "source": [
    "def load_array(data_arrays, batch_size, is_train=True):\n",
    "    dataset = data.TensorDataset(*data_arrays)\n",
    "    return data.DataLoader(dataset, batch_size, shuffle=is_train)"
   ]
  },
  {
   "cell_type": "code",
   "execution_count": 9,
   "id": "7537bc4c",
   "metadata": {},
   "outputs": [],
   "source": [
    "batch_size = 10\n",
    "data_iter = load_array((features, labels,), batch_size)"
   ]
  },
  {
   "cell_type": "code",
   "execution_count": 10,
   "id": "1a84f890",
   "metadata": {},
   "outputs": [
    {
     "data": {
      "text/plain": [
       "[tensor([[-0.4850, -0.2677],\n",
       "         [ 0.0993, -2.5431],\n",
       "         [-1.9456, -0.3702],\n",
       "         [ 1.1885,  0.7036],\n",
       "         [-0.6214, -1.4142],\n",
       "         [-0.5763, -0.1275],\n",
       "         [ 1.0903, -1.5662],\n",
       "         [-0.9468,  0.0834],\n",
       "         [ 1.5481,  0.9032],\n",
       "         [-0.8431,  0.1225]]),\n",
       " tensor([[ 4.1358],\n",
       "         [13.0339],\n",
       "         [ 1.5641],\n",
       "         [ 4.1845],\n",
       "         [ 7.7712],\n",
       "         [ 3.4948],\n",
       "         [11.7168],\n",
       "         [ 2.0297],\n",
       "         [ 4.2253],\n",
       "         [ 2.0801]])]"
      ]
     },
     "execution_count": 10,
     "metadata": {},
     "output_type": "execute_result"
    }
   ],
   "source": [
    "next(iter(data_iter))"
   ]
  },
  {
   "cell_type": "code",
   "execution_count": 12,
   "id": "c1bc082c",
   "metadata": {},
   "outputs": [],
   "source": [
    "from torch import nn"
   ]
  },
  {
   "cell_type": "code",
   "execution_count": 18,
   "id": "3ef5f476",
   "metadata": {},
   "outputs": [],
   "source": [
    "class Linreg(nn.Module):\n",
    "    def __init__(self,*args, **kwargs):\n",
    "        super().__init__(*args, **kwargs)\n",
    "        self.net = nn.Sequential(\n",
    "            nn.Linear(2, 1)\n",
    "        )\n",
    "    def forward(self, x):\n",
    "        return self.net(x)"
   ]
  },
  {
   "cell_type": "code",
   "execution_count": 28,
   "id": "469bd012",
   "metadata": {},
   "outputs": [],
   "source": [
    "# net = nn.Linear(2, 1)\n",
    "net = Linreg()\n",
    "loss = nn.MSELoss()\n",
    "optmizer = torch.optim.SGD(net.parameters(), lr=0.03)"
   ]
  },
  {
   "cell_type": "code",
   "execution_count": 29,
   "id": "47fdebc7",
   "metadata": {},
   "outputs": [],
   "source": [
    "def train():\n",
    "    for epoch in range(1, num_epoch+1):\n",
    "        for X,y in data_iter:\n",
    "            y_hat = net(X)\n",
    "            l = loss(y_hat, y)\n",
    "            optmizer.zero_grad()\n",
    "            l.backward()\n",
    "            optmizer.step()\n",
    "        l = loss(net(features), labels)    \n",
    "        print(f'epoch {epoch}, loss {l:f}')"
   ]
  },
  {
   "cell_type": "code",
   "execution_count": 30,
   "id": "ff89e652",
   "metadata": {},
   "outputs": [
    {
     "name": "stdout",
     "output_type": "stream",
     "text": [
      "epoch 1, loss 0.000209\n",
      "epoch 2, loss 0.000102\n",
      "epoch 3, loss 0.000103\n"
     ]
    }
   ],
   "source": [
    "num_epoch = 3\n",
    "train()"
   ]
  }
 ],
 "metadata": {
  "kernelspec": {
   "display_name": "Python 3 (ipykernel)",
   "language": "python",
   "name": "python3"
  },
  "language_info": {
   "codemirror_mode": {
    "name": "ipython",
    "version": 3
   },
   "file_extension": ".py",
   "mimetype": "text/x-python",
   "name": "python",
   "nbconvert_exporter": "python",
   "pygments_lexer": "ipython3",
   "version": "3.10.11"
  }
 },
 "nbformat": 4,
 "nbformat_minor": 5
}
