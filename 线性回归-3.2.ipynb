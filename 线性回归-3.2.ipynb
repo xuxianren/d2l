{
 "cells": [
  {
   "cell_type": "code",
   "execution_count": 52,
   "id": "4eac751d",
   "metadata": {},
   "outputs": [],
   "source": [
    "import torch\n",
    "import numpy as np\n",
    "import random"
   ]
  },
  {
   "cell_type": "code",
   "execution_count": 53,
   "id": "be55486c",
   "metadata": {},
   "outputs": [],
   "source": [
    "def synthetic_data(w, b, num_examples): \n",
    "    \"\"\"⽣成y=Xw+b+噪声\"\"\"\n",
    "    X = torch.normal(0, 1, (num_examples, len(w)))\n",
    "    y = torch.matmul(X, w) + b\n",
    "    y += torch.normal(0, 0.01, y.shape)\n",
    "    return X, y.reshape((-1, 1))"
   ]
  },
  {
   "cell_type": "code",
   "execution_count": 54,
   "id": "308d1740",
   "metadata": {},
   "outputs": [],
   "source": [
    "true_w = torch.tensor([2, -3.4])\n",
    "true_b = 4.2\n",
    "features, labels = synthetic_data(true_w, true_b, 1000)"
   ]
  },
  {
   "cell_type": "code",
   "execution_count": 55,
   "id": "ccc7d341",
   "metadata": {},
   "outputs": [
    {
     "data": {
      "image/png": "[encoded data removed]",
      "text/plain": [
       "<Figure size 640x480 with 1 Axes>"
      ]
     },
     "metadata": {},
     "output_type": "display_data"
    }
   ],
   "source": [
    "%matplotlib inline\n",
    "import matplotlib.pyplot as plt\n",
    "\n",
    "plt.scatter(features[:,1], labels, 1)\n",
    "plt.show()"
   ]
  },
  {
   "cell_type": "code",
   "execution_count": 56,
   "id": "64ccc841",
   "metadata": {},
   "outputs": [],
   "source": [
    "def data_iter(batch_size, features, labels):\n",
    "    num_examples = len(features)\n",
    "    indices = list(range(num_examples))\n",
    "    random.shuffle(indices)\n",
    "    for i in range(0, num_examples, batch_size):\n",
    "        batch_indices = torch.tensor(indices[i:min(i+batch_size, num_examples)])\n",
    "        yield features[batch_indices], labels[batch_indices]"
   ]
  },
  {
   "cell_type": "code",
   "execution_count": 58,
   "id": "d6f072bb",
   "metadata": {},
   "outputs": [
    {
     "name": "stdout",
     "output_type": "stream",
     "text": [
      "tensor([[-0.9313,  1.9535],\n",
      "        [-0.5142, -0.9501],\n",
      "        [-1.5501,  0.6769],\n",
      "        [ 0.2820, -0.1553],\n",
      "        [ 0.2672, -0.5047],\n",
      "        [-1.0352,  0.2411],\n",
      "        [-0.0441,  1.3994],\n",
      "        [ 0.2012,  0.1055],\n",
      "        [-0.8502, -0.6415],\n",
      "        [ 0.8128, -0.4073]]) \n",
      " tensor([[-4.3171],\n",
      "        [ 6.4071],\n",
      "        [-1.2073],\n",
      "        [ 5.2849],\n",
      "        [ 6.4730],\n",
      "        [ 1.3112],\n",
      "        [-0.6493],\n",
      "        [ 4.2333],\n",
      "        [ 4.6847],\n",
      "        [ 7.2074]])\n"
     ]
    }
   ],
   "source": [
    "batch_size = 10\n",
    "for X, y in data_iter(batch_size, features, labels):\n",
    "    print(X, '\\n', y)\n",
    "    break"
   ]
  },
  {
   "cell_type": "code",
   "execution_count": 74,
   "id": "9b52cbdb",
   "metadata": {},
   "outputs": [],
   "source": [
    "# w = torch.normal(0, 0.01, size=(2,1), requires_grad=True)\n",
    "w = torch.zeros((2,1), requires_grad=True)\n",
    "b = torch.zeros(1, requires_grad=True)\n",
    "def linreg(X, w, b):\n",
    "    return X @ w + b"
   ]
  },
  {
   "cell_type": "code",
   "execution_count": 70,
   "id": "391bd1f3",
   "metadata": {},
   "outputs": [],
   "source": [
    "def squared_loss(y_hat, y):\n",
    "    return ((y_hat - y)**2 / 2).sum()"
   ]
  },
  {
   "cell_type": "code",
   "execution_count": 64,
   "id": "a2400da3",
   "metadata": {},
   "outputs": [],
   "source": [
    "def sgd(params, lr, batch_size):\n",
    "    with torch.no_grad():\n",
    "        for param in params:\n",
    "            param -= lr * param.grad / batch_size\n",
    "            param.grad.zero_()"
   ]
  },
  {
   "cell_type": "code",
   "execution_count": 75,
   "id": "d027ea58",
   "metadata": {},
   "outputs": [],
   "source": [
    "def train():\n",
    "    lr = 0.03\n",
    "    num_epochs = 3\n",
    "    net = linreg\n",
    "    loss = squared_loss\n",
    "    for epoch in range(num_epochs):\n",
    "        for X,y in data_iter(batch_size, features, labels):\n",
    "            y_hat = net(X, w, b)\n",
    "            l = loss(y_hat, y)\n",
    "            l.backward()\n",
    "            sgd([w, b], lr, batch_size)\n",
    "        with torch.no_grad():\n",
    "            train_1 = loss(net(features, w, b), labels)\n",
    "            print(f\"epoch {epoch+1}, loss {float(train_1.mean()):f}\")"
   ]
  },
  {
   "cell_type": "code",
   "execution_count": 76,
   "id": "95d2c95a",
   "metadata": {},
   "outputs": [
    {
     "name": "stdout",
     "output_type": "stream",
     "text": [
      "epoch 1, loss 32.469116\n",
      "epoch 2, loss 0.112955\n",
      "epoch 3, loss 0.050547\n"
     ]
    }
   ],
   "source": [
    "train()"
   ]
  },
  {
   "cell_type": "code",
   "execution_count": 73,
   "id": "cafee486",
   "metadata": {},
   "outputs": [
    {
     "name": "stdout",
     "output_type": "stream",
     "text": [
      "w的估计误差: tensor([0.0004, 0.0004], grad_fn=<SubBackward0>)\n",
      "b的估计误差: tensor([-0.0003], grad_fn=<RsubBackward1>)\n"
     ]
    }
   ],
   "source": [
    "print(f'w的估计误差: {true_w - w.reshape(true_w.shape)}')\n",
    "print(f'b的估计误差: {true_b - b}')"
   ]
  }
 ],
 "metadata": {
  "kernelspec": {
   "display_name": "Python 3 (ipykernel)",
   "language": "python",
   "name": "python3"
  },
  "language_info": {
   "codemirror_mode": {
    "name": "ipython",
    "version": 3
   },
   "file_extension": ".py",
   "mimetype": "text/x-python",
   "name": "python",
   "nbconvert_exporter": "python",
   "pygments_lexer": "ipython3",
   "version": "3.10.11"
  }
 },
 "nbformat": 4,
 "nbformat_minor": 5
}
